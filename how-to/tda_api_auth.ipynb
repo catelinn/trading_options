{
 "cells": [
  {
   "cell_type": "code",
   "execution_count": 1,
   "metadata": {},
   "outputs": [],
   "source": [
    "import time\n",
    "import urllib\n",
    "import requests\n",
    "from splinter import Browser\n",
    "from selenium import webdriver\n",
    "import pandas as pd\n",
    "\n",
    "# Import python file froms different folder\n",
    "# reference: https://stackoverflow.com/questions/4383571/importing-files-from-different-folders\n",
    "import sys\n",
    "path_to_files = '/Volumes/ExtremeSSD/github_repos/trading_options/'\n",
    "sys.path.insert(1, path_to_files) # insert at 1\n",
    "from config import accounts"
   ]
  },
  {
   "cell_type": "markdown",
   "metadata": {},
   "source": [
    "# How to approach TDA authentication\n",
    "\n",
    "https://developer.tdameritrade.com/content/phase-1-authentication-update-xml-based-api\n",
    "\n",
    "Basically, TDA follows the following authentication steps for use of their APIs:\n",
    "\n",
    "\n",
    "1. Create a new app in Developer account, which shall provide the following items for authentication: \n",
    "\n",
    "    - `client_id`, which is shared among all linked TdAmeritrade accounts.\n",
    "    - `callback_url`, for applications running on local machines, it's a link to your localhost URL, which will be used to receive the **auth code** after successful authentication\n",
    "\n",
    "\n",
    "2. For the first time authorization code, we need to go through authentication process, which is to use browser to visit a special page to complete user login and 2-way factor authentication (receiving sms code) to arrive at a url that contains the **auth code**. This process can be done automatically using `splinter Browser` and `selenium webdriver` libraries.\n",
    "\n",
    "\n",
    "3. With the **auth code**, we can access the [authentication api](https://developer.tdameritrade.com/authentication/apis) to retrieve the first time **access token**, don't forget to retrieve **refresh token** as well, it's because:\n",
    "\n",
    "    - **Access token** expires in 30 minutes, however\n",
    "    - **refresh token** is valid for 90 days. \n",
    "\n",
    "    Once the old **access token** expires every 30 minutes, we can just use **refresh token** to retrieve a new valid **access token** without going through the authentication that involves receiving sms code again\n",
    "    \n",
    "    \n",
    "4. Now, we can make authenticated requests to all sorts of APIs with a valid **access token**."
   ]
  },
  {
   "cell_type": "markdown",
   "metadata": {},
   "source": [
    "# Get Authorization Code"
   ]
  },
  {
   "cell_type": "markdown",
   "metadata": {},
   "source": [
    "## Define the URL for Authentication"
   ]
  },
  {
   "cell_type": "code",
   "execution_count": 2,
   "metadata": {},
   "outputs": [
    {
     "name": "stdout",
     "output_type": "stream",
     "text": [
      "Enter password for user \"catelinnx2\":········\n"
     ]
    }
   ],
   "source": [
    "# credentials\n",
    "account_number = accounts['margin']['accountNumber']\n",
    "client_id = accounts['margin']['clientId']\n",
    "callback_url = accounts['margin']['callbackUrl']\n",
    "username = accounts['margin']['username']\n",
    "\n",
    "import getpass\n",
    "password = getpass.getpass(f'Enter password for user \"{username}\":')\n",
    "\n",
    "# Define all components of the URL\n",
    "url = f'https://auth.tdameritrade.com/auth?'\n",
    "method = 'GET'\n",
    "client_code = client_id + '@AMER.OAUTHAP'\n",
    "payload = {'response_type': 'code', \n",
    "           'redirect_uri': callback_url, \n",
    "           'client_id': client_code}\n",
    "\n",
    "# build the url\n",
    "built_url = requests.Request(method, url, params=payload).prepare()\n",
    "built_url = built_url.url"
   ]
  },
  {
   "cell_type": "markdown",
   "metadata": {},
   "source": [
    "## Automatic Authentication using Browser"
   ]
  },
  {
   "cell_type": "code",
   "execution_count": 3,
   "metadata": {},
   "outputs": [
    {
     "name": "stdout",
     "output_type": "stream",
     "text": [
      "Enter sms code: 532985\n"
     ]
    }
   ],
   "source": [
    "\"\"\"Invoke browser\"\"\"\n",
    "# path to chrome driver\n",
    "executable_path = {'executable_path': '/Users/catelinn/drivers_for_dev/chromedriver'}\n",
    "\n",
    "# Set default behaviors as Chrome Browser\n",
    "options = webdriver.ChromeOptions()\n",
    "\n",
    "# make sure the window is maximized\n",
    "options.add_argument('--start-maximized')\n",
    "\n",
    "# make sure notification are off\n",
    "options.add_argument('--disable-notifications')\n",
    "\n",
    "# create a new browser object, which\n",
    "# 1. by default is Firefox, here, I use 'chrome';\n",
    "# 2. connect to my chrome webdriver path\n",
    "# 3. set `headless` to `False` to see the activities in browser, `True` not to see\n",
    "# 4. pass in `options` to customize browser\n",
    "browser = Browser('chrome', **executable_path, headless = False, options = options)\n",
    "\n",
    "\"\"\"Now, we can visit the user authentication page\"\"\"\n",
    "browser.visit(built_url)\n",
    "\n",
    "# === Inspect the page and find the following ===\n",
    "# ===============================================\n",
    "# userID box\n",
    "username_box = browser.find_by_id('username0')\n",
    "\n",
    "# password box\n",
    "password_box = browser.find_by_id('password1')\n",
    "\n",
    "# === Automatic Authentication   ====\n",
    "# ===================================\n",
    "# fill in username and password at login page\n",
    "username_box.fill(username)\n",
    "password_box.fill(password)\n",
    "browser.find_by_id('accept').first.click()\n",
    "\n",
    "# continue to receive sms code\n",
    "time.sleep(1) #give it a second to load\n",
    "browser.find_by_id('accept').click()\n",
    "\n",
    "# enter sms code\n",
    "time.sleep(1)\n",
    "smscode = input('Enter sms code: ')\n",
    "browser.find_by_id('smscode0').type(smscode)\n",
    "browser.find_by_id('accept').first.click()\n",
    "\n",
    "# confirm trust device\n",
    "time.sleep(1)\n",
    "browser.find_by_xpath('/html/body/form/main/fieldset/div/div[1]').click()\n",
    "browser.find_by_id('accept').first.click()\n",
    "\n",
    "# confirm authorization\n",
    "time.sleep(1)\n",
    "browser.find_by_id('accept').first.click()\n",
    "\n",
    "# the final url that shall contains the access token\n",
    "new_url = browser.url\n",
    "\n",
    "# close the browser\n",
    "browser.quit()"
   ]
  },
  {
   "cell_type": "markdown",
   "metadata": {},
   "source": [
    "## Parse the Auth Code"
   ]
  },
  {
   "cell_type": "code",
   "execution_count": 4,
   "metadata": {},
   "outputs": [],
   "source": [
    "# grab the url and parse it to retrieve the authorization code\n",
    "# this code last only 30 minutes, use it quickly to retrieve the \"access token\"\n",
    "auth_code = urllib.parse.unquote(new_url.split('code=')[1])"
   ]
  },
  {
   "cell_type": "markdown",
   "metadata": {},
   "source": [
    "# Get the Access Token"
   ]
  },
  {
   "cell_type": "code",
   "execution_count": 5,
   "metadata": {},
   "outputs": [],
   "source": [
    "# Now we can use the uAuth API to retrieve the bearer token, which\n",
    "# can be used to access other APIs\n",
    "#https://developer.tdameritrade.com/authentication/apis\n",
    "def get_first_access_token(auth_code, client_id, callback_url):\n",
    "    \n",
    "    # define the endpoint\n",
    "    url = 'https://api.tdameritrade.com/v1/oauth2/token'\n",
    "\n",
    "    # define the headers\n",
    "    headers = {'Content-Type': 'application/x-www-form-urlencoded'}\n",
    "\n",
    "    # define the payload\n",
    "    payload = {'grant_type': 'authorization_code',\n",
    "              'access_type': 'offline',\n",
    "              'code': auth_code,\n",
    "              'client_id': client_id,\n",
    "              'redirect_uri': callback_url}\n",
    "\n",
    "    # post the data to get the token\n",
    "    return requests.post(url, headers=headers, data=payload)"
   ]
  },
  {
   "cell_type": "code",
   "execution_count": 6,
   "metadata": {},
   "outputs": [],
   "source": [
    "r = get_first_access_token(auth_code, client_id, callback_url)"
   ]
  },
  {
   "cell_type": "code",
   "execution_count": 7,
   "metadata": {},
   "outputs": [
    {
     "data": {
      "text/plain": [
       "dict_keys(['access_token', 'refresh_token', 'scope', 'expires_in', 'refresh_token_expires_in', 'token_type'])"
      ]
     },
     "execution_count": 7,
     "metadata": {},
     "output_type": "execute_result"
    }
   ],
   "source": [
    "r.json().keys()"
   ]
  },
  {
   "cell_type": "code",
   "execution_count": 8,
   "metadata": {},
   "outputs": [],
   "source": [
    "access_token = r.json()['access_token']\n",
    "refresh_token = r.json()['refresh_token']"
   ]
  },
  {
   "cell_type": "code",
   "execution_count": 9,
   "metadata": {},
   "outputs": [],
   "source": [
    "# save the refresh token to file\n",
    "import datetime\n",
    "from datetime import date\n",
    "expiry = (date.today() + datetime.timedelta(days=90*2)).strftime(\"%m%d%Y\")\n",
    "f = open('refresh_token.py', 'w')\n",
    "f.write('refresh_token='+repr(refresh_token))\n",
    "f.write('\\nexpiry='+repr(expiry))\n",
    "f.close()"
   ]
  },
  {
   "cell_type": "markdown",
   "metadata": {},
   "source": [
    "# Refresh Access Token after It Expires"
   ]
  },
  {
   "cell_type": "code",
   "execution_count": 10,
   "metadata": {},
   "outputs": [],
   "source": [
    "def refresh_access_token(refresh_token, client_id):\n",
    "    # define the endpoint\n",
    "    url = 'https://api.tdameritrade.com/v1/oauth2/token'\n",
    "\n",
    "    # define the headers\n",
    "    headers = {'Content-Type': 'application/x-www-form-urlencoded'}\n",
    "\n",
    "    # define the payload\n",
    "    payload = {'grant_type': 'refresh_token',\n",
    "               'client_id': client_id,\n",
    "               'refresh_token': refresh_token}\n",
    "\n",
    "    # post the data to get the token\n",
    "    r = requests.post(url, headers=headers, data=payload)\n",
    "    return r.json()['access_token']"
   ]
  },
  {
   "cell_type": "code",
   "execution_count": 11,
   "metadata": {},
   "outputs": [],
   "source": [
    "access_token = refresh_access_token(refresh_token, client_id)"
   ]
  },
  {
   "cell_type": "markdown",
   "metadata": {},
   "source": [
    "# Make Authenticated API Requests\n",
    "\n",
    "Now we can make authenticated request to the [TDA apis](https://developer.tdameritrade.com/apis) with the access token. \n",
    "\n",
    "\n",
    "## Access Account Information\n",
    "\n",
    "\n",
    "Let's try with the `accounts` api: ([API docs](https://developer.tdameritrade.com/account-access/apis/get/accounts-0))"
   ]
  },
  {
   "cell_type": "code",
   "execution_count": 12,
   "metadata": {},
   "outputs": [
    {
     "name": "stdout",
     "output_type": "stream",
     "text": [
      "dict_keys(['securitiesAccount'])\n"
     ]
    }
   ],
   "source": [
    "# define the endpoint\n",
    "endpoint = 'https://api.tdameritrade.com/v1/accounts'\n",
    "\n",
    "# prepare the headers (per the docs)\n",
    "headers = {'Authorization': f'Bearer {access_token}'}\n",
    "\n",
    "# make a request\n",
    "r = requests.get(url=endpoint, headers=headers)\n",
    "\n",
    "# parse the content\n",
    "data = r.json()\n",
    "\n",
    "# data include list of accounts\n",
    "for item in data:\n",
    "    print(item.keys())"
   ]
  },
  {
   "cell_type": "code",
   "execution_count": 13,
   "metadata": {},
   "outputs": [
    {
     "data": {
      "text/plain": [
       "dict_keys(['type', 'accountId', 'roundTrips', 'isDayTrader', 'isClosingOnlyRestricted', 'initialBalances', 'currentBalances', 'projectedBalances'])"
      ]
     },
     "execution_count": 13,
     "metadata": {},
     "output_type": "execute_result"
    }
   ],
   "source": [
    "# see how to access each account's details\n",
    "data[0]['securitiesAccount'].keys()"
   ]
  },
  {
   "cell_type": "code",
   "execution_count": 14,
   "metadata": {},
   "outputs": [
    {
     "data": {
      "text/plain": [
       "'MARGIN'"
      ]
     },
     "execution_count": 14,
     "metadata": {},
     "output_type": "execute_result"
    }
   ],
   "source": [
    "# access the first account - type\n",
    "data[0]['securitiesAccount']['type']"
   ]
  },
  {
   "cell_type": "markdown",
   "metadata": {},
   "source": [
    "## View Transactions\n",
    "\n",
    "Here's the [documentation for transaction APIs](https://developer.tdameritrade.com/transaction-history/apis)"
   ]
  },
  {
   "cell_type": "code",
   "execution_count": 15,
   "metadata": {},
   "outputs": [],
   "source": [
    "# define the endpoint\n",
    "endpoint = f'https://api.tdameritrade.com/v1/accounts/{account_number}/transactions'\n",
    "\n",
    "# prepare the headers (per the docs)\n",
    "headers = {'Authorization': f'Bearer {access_token}'}\n",
    "\n",
    "# prams\n",
    "params = {'type': 'ALL', 'symbol': 'SPY'} \n",
    "\n",
    "# make a request\n",
    "r = requests.get(url=endpoint, headers=headers, params=params)\n",
    "\n",
    "# parse the content and convert to pandas df\n",
    "data = pd.DataFrame(r.json())"
   ]
  },
  {
   "cell_type": "code",
   "execution_count": 16,
   "metadata": {},
   "outputs": [
    {
     "data": {
      "text/plain": [
       "Index(['type', 'subAccount', 'settlementDate', 'orderId', 'netAmount',\n",
       "       'transactionDate', 'orderDate', 'transactionSubType', 'transactionId',\n",
       "       'cashBalanceEffectFlag', 'description', 'fees', 'transactionItem'],\n",
       "      dtype='object')"
      ]
     },
     "execution_count": 16,
     "metadata": {},
     "output_type": "execute_result"
    }
   ],
   "source": [
    "# check avaialble fields\n",
    "data.columns"
   ]
  },
  {
   "cell_type": "code",
   "execution_count": 17,
   "metadata": {},
   "outputs": [
    {
     "data": {
      "text/plain": [
       "{'symbol': 'SPY_042222C370',\n",
       " 'underlyingSymbol': 'SPY',\n",
       " 'optionExpirationDate': '2022-04-22T05:00:00+0000',\n",
       " 'putCall': 'CALL',\n",
       " 'cusip': '0SPY..DM20370000',\n",
       " 'description': 'SPY Apr 22 2022 370.0 Call',\n",
       " 'assetType': 'OPTION'}"
      ]
     },
     "execution_count": 17,
     "metadata": {},
     "output_type": "execute_result"
    }
   ],
   "source": [
    "# View the details of a transaction\n",
    "data.loc[0,'transactionItem']['instrument']"
   ]
  },
  {
   "cell_type": "markdown",
   "metadata": {},
   "source": [
    "## Place an Order\n",
    "\n",
    "\n",
    "Refer to the [Place Order APIs](https://developer.tdameritrade.com/account-access/apis) for detailed explanations and [examples](https://developer.tdameritrade.com/content/place-order-samples).\n",
    "\n",
    "### Place Saved Orders\n",
    "\n",
    "- Accounts with **advanced features** granted cannot place **saved orders** using api. \n",
    "- **Advanced features** for TDAmeritrade account refer to **futures** and **forex**. Need to contact customer support to turn off the features."
   ]
  },
  {
   "cell_type": "code",
   "execution_count": 18,
   "metadata": {},
   "outputs": [
    {
     "data": {
      "text/plain": [
       "<Response [400]>"
      ]
     },
     "execution_count": 18,
     "metadata": {},
     "output_type": "execute_result"
    }
   ],
   "source": [
    "# define the endpoint\n",
    "endpoint = f'https://api.tdameritrade.com/v1/accounts/{account_number}/savedorders'\n",
    "\n",
    "# prepare the headers (per the docs)\n",
    "# we need 'Content-Type' as `json` because it's required to pass payload (data) as json\n",
    "headers = {'Authorization': f'Bearer {access_token}',\n",
    "           'Content-Type': 'application/json'}\n",
    "\n",
    "# order details\n",
    "payload = {\"orderType\": \"LIMIT\",\n",
    "        \"price\": \"12.00\",\n",
    "        \"session\": \"SEAMLESS\", #pre, post and regular sessions\n",
    "        \"duration\": \"GOOD_TILL_CANCEL\",\n",
    "        \"orderStrategyType\": \"SINGLE\",\n",
    "        \"orderLegCollection\": [{\"instruction\": \"Buy\",\n",
    "                                \"quantity\": 1,\n",
    "                                \"instrument\": {\n",
    "                                  \"symbol\": \"PLTR\",\n",
    "                                  \"assetType\": \"EQUITY\"\n",
    "                                 }}]\n",
    "}\n",
    "\n",
    "# make a request (use `POST` method)\n",
    "r = requests.post(url=endpoint, headers=headers, json=payload)\n",
    "r"
   ]
  },
  {
   "cell_type": "code",
   "execution_count": 19,
   "metadata": {},
   "outputs": [
    {
     "data": {
      "text/plain": [
       "{'error': 'Saved Orders are not supported for this account.'}"
      ]
     },
     "execution_count": 19,
     "metadata": {},
     "output_type": "execute_result"
    }
   ],
   "source": [
    "# see the error message\n",
    "r.json()"
   ]
  },
  {
   "cell_type": "markdown",
   "metadata": {},
   "source": [
    "### Place Instant Orders\n",
    "\n",
    "**Note:** Placing an instant order doesn't return any content data, unless there is error or rejection message. However, we can retrieve the order information using **get order** endpoint."
   ]
  },
  {
   "cell_type": "code",
   "execution_count": 20,
   "metadata": {},
   "outputs": [
    {
     "data": {
      "text/plain": [
       "<Response [201]>"
      ]
     },
     "execution_count": 20,
     "metadata": {},
     "output_type": "execute_result"
    }
   ],
   "source": [
    "# define the endpoint\n",
    "endpoint = f'https://api.tdameritrade.com/v1/accounts/{account_number}/orders'\n",
    "\n",
    "# prepare the headers (per the docs)\n",
    "# we need 'Content-Type' as `json` because it's required to pass payload (data) as json\n",
    "headers = {'Authorization': f'Bearer {access_token}',\n",
    "           'Content-Type': 'application/json'}\n",
    "\n",
    "# order details\n",
    "payload = {\"orderType\": \"LIMIT\",\n",
    "        \"price\": \"6.00\",\n",
    "        \"session\": \"SEAMLESS\", #pre, post and regular sessions\n",
    "        \"duration\": \"GOOD_TILL_CANCEL\",\n",
    "        \"orderStrategyType\": \"SINGLE\",\n",
    "        \"orderLegCollection\": [{\"instruction\": \"Buy\",\n",
    "                                \"quantity\": 1,\n",
    "                                \"instrument\": {\n",
    "                                  \"symbol\": \"PLTR\",\n",
    "                                  \"assetType\": \"EQUITY\"\n",
    "                                 }}]\n",
    "}\n",
    "\n",
    "# make a request (use `POST` method)\n",
    "r = requests.post(url=endpoint, headers=headers, json=payload)\n",
    "r"
   ]
  },
  {
   "cell_type": "code",
   "execution_count": 21,
   "metadata": {},
   "outputs": [
    {
     "data": {
      "text/plain": [
       "b''"
      ]
     },
     "execution_count": 21,
     "metadata": {},
     "output_type": "execute_result"
    }
   ],
   "source": [
    "r.content"
   ]
  },
  {
   "cell_type": "markdown",
   "metadata": {},
   "source": [
    "## Get Orders\n",
    "\n",
    "- Somehow I can't use [get orders by query](https://developer.tdameritrade.com/account-access/apis/get/orders-0) endpoint to retrieve orders, the error says \"you don't have permission to access the resources\")\n",
    "\n",
    "- However, I can use [get orders by path](https://developer.tdameritrade.com/account-access/apis/get/accounts/%7BaccountId%7D/orders-0) to retrieve orders by an account."
   ]
  },
  {
   "cell_type": "code",
   "execution_count": 22,
   "metadata": {},
   "outputs": [
    {
     "data": {
      "text/plain": [
       "<Response [200]>"
      ]
     },
     "execution_count": 22,
     "metadata": {},
     "output_type": "execute_result"
    }
   ],
   "source": [
    "# define the endpoint\n",
    "endpoint = f'https://api.tdameritrade.com/v1/accounts/{account_number}/orders'\n",
    "\n",
    "# prepare the headers (per the docs)\n",
    "headers = {'Authorization': f'Bearer {access_token}'}\n",
    "\n",
    "# query parameters\n",
    "params = {'fromEnteredTime': '2022-02-17'}\n",
    "\n",
    "# make a request (use `POST` method)\n",
    "r = requests.get(url=endpoint, headers=headers, params=params)\n",
    "r"
   ]
  },
  {
   "cell_type": "code",
   "execution_count": 23,
   "metadata": {},
   "outputs": [],
   "source": [
    "# parse the data and convert to pandas df\n",
    "orders = pd.DataFrame(r.json())"
   ]
  },
  {
   "cell_type": "code",
   "execution_count": 24,
   "metadata": {},
   "outputs": [
    {
     "data": {
      "text/plain": [
       "Index(['session', 'duration', 'orderType', 'complexOrderStrategyType',\n",
       "       'quantity', 'filledQuantity', 'remainingQuantity',\n",
       "       'requestedDestination', 'destinationLinkName', 'price',\n",
       "       'orderLegCollection', 'orderStrategyType', 'orderId', 'cancelable',\n",
       "       'editable', 'status', 'enteredTime', 'tag', 'accountId', 'closeTime',\n",
       "       'orderActivityCollection'],\n",
       "      dtype='object')"
      ]
     },
     "execution_count": 24,
     "metadata": {},
     "output_type": "execute_result"
    }
   ],
   "source": [
    "# check available fields\n",
    "orders.columns"
   ]
  },
  {
   "cell_type": "code",
   "execution_count": 25,
   "metadata": {},
   "outputs": [],
   "source": [
    "orders.sort_values('enteredTime', ascending=False, inplace=True)"
   ]
  },
  {
   "cell_type": "code",
   "execution_count": 26,
   "metadata": {},
   "outputs": [
    {
     "data": {
      "text/html": [
       "<div>\n",
       "<style scoped>\n",
       "    .dataframe tbody tr th:only-of-type {\n",
       "        vertical-align: middle;\n",
       "    }\n",
       "\n",
       "    .dataframe tbody tr th {\n",
       "        vertical-align: top;\n",
       "    }\n",
       "\n",
       "    .dataframe thead th {\n",
       "        text-align: right;\n",
       "    }\n",
       "</style>\n",
       "<table border=\"1\" class=\"dataframe\">\n",
       "  <thead>\n",
       "    <tr style=\"text-align: right;\">\n",
       "      <th></th>\n",
       "      <th>session</th>\n",
       "      <th>duration</th>\n",
       "      <th>orderType</th>\n",
       "      <th>quantity</th>\n",
       "      <th>filledQuantity</th>\n",
       "      <th>remainingQuantity</th>\n",
       "      <th>price</th>\n",
       "      <th>orderId</th>\n",
       "      <th>cancelable</th>\n",
       "      <th>editable</th>\n",
       "      <th>status</th>\n",
       "      <th>enteredTime</th>\n",
       "      <th>tag</th>\n",
       "      <th>closeTime</th>\n",
       "    </tr>\n",
       "  </thead>\n",
       "  <tbody>\n",
       "    <tr>\n",
       "      <th>0</th>\n",
       "      <td>SEAMLESS</td>\n",
       "      <td>GOOD_TILL_CANCEL</td>\n",
       "      <td>LIMIT</td>\n",
       "      <td>1.0</td>\n",
       "      <td>0.0</td>\n",
       "      <td>1.0</td>\n",
       "      <td>6.00</td>\n",
       "      <td>5428534769</td>\n",
       "      <td>True</td>\n",
       "      <td>True</td>\n",
       "      <td>WORKING</td>\n",
       "      <td>2022-03-15T19:31:02+0000</td>\n",
       "      <td>API_OMS_REST:AA_catelinnx2</td>\n",
       "      <td>NaN</td>\n",
       "    </tr>\n",
       "    <tr>\n",
       "      <th>1</th>\n",
       "      <td>SEAMLESS</td>\n",
       "      <td>GOOD_TILL_CANCEL</td>\n",
       "      <td>LIMIT</td>\n",
       "      <td>1.0</td>\n",
       "      <td>0.0</td>\n",
       "      <td>0.0</td>\n",
       "      <td>6.00</td>\n",
       "      <td>5428432702</td>\n",
       "      <td>False</td>\n",
       "      <td>False</td>\n",
       "      <td>CANCELED</td>\n",
       "      <td>2022-03-15T19:15:11+0000</td>\n",
       "      <td>API_OMS_REST:AA_catelinnx2</td>\n",
       "      <td>2022-03-15T19:15:23+0000</td>\n",
       "    </tr>\n",
       "    <tr>\n",
       "      <th>2</th>\n",
       "      <td>SEAMLESS</td>\n",
       "      <td>GOOD_TILL_CANCEL</td>\n",
       "      <td>LIMIT</td>\n",
       "      <td>1.0</td>\n",
       "      <td>0.0</td>\n",
       "      <td>0.0</td>\n",
       "      <td>6.00</td>\n",
       "      <td>5428381769</td>\n",
       "      <td>False</td>\n",
       "      <td>False</td>\n",
       "      <td>CANCELED</td>\n",
       "      <td>2022-03-15T19:07:43+0000</td>\n",
       "      <td>API_OMS_REST:AA_catelinnx2</td>\n",
       "      <td>2022-03-15T19:07:57+0000</td>\n",
       "    </tr>\n",
       "    <tr>\n",
       "      <th>3</th>\n",
       "      <td>SEAMLESS</td>\n",
       "      <td>GOOD_TILL_CANCEL</td>\n",
       "      <td>LIMIT</td>\n",
       "      <td>1.0</td>\n",
       "      <td>0.0</td>\n",
       "      <td>0.0</td>\n",
       "      <td>6.00</td>\n",
       "      <td>5427839141</td>\n",
       "      <td>False</td>\n",
       "      <td>False</td>\n",
       "      <td>CANCELED</td>\n",
       "      <td>2022-03-15T17:10:20+0000</td>\n",
       "      <td>API_OMS_REST:AA_catelinnx2</td>\n",
       "      <td>2022-03-15T17:19:47+0000</td>\n",
       "    </tr>\n",
       "    <tr>\n",
       "      <th>4</th>\n",
       "      <td>NORMAL</td>\n",
       "      <td>DAY</td>\n",
       "      <td>NET_DEBIT</td>\n",
       "      <td>1.0</td>\n",
       "      <td>1.0</td>\n",
       "      <td>0.0</td>\n",
       "      <td>1.58</td>\n",
       "      <td>5427594584</td>\n",
       "      <td>False</td>\n",
       "      <td>False</td>\n",
       "      <td>FILLED</td>\n",
       "      <td>2022-03-15T16:22:18+0000</td>\n",
       "      <td>tIP</td>\n",
       "      <td>2022-03-15T16:22:21+0000</td>\n",
       "    </tr>\n",
       "  </tbody>\n",
       "</table>\n",
       "</div>"
      ],
      "text/plain": [
       "    session          duration  orderType  quantity  filledQuantity  \\\n",
       "0  SEAMLESS  GOOD_TILL_CANCEL      LIMIT       1.0             0.0   \n",
       "1  SEAMLESS  GOOD_TILL_CANCEL      LIMIT       1.0             0.0   \n",
       "2  SEAMLESS  GOOD_TILL_CANCEL      LIMIT       1.0             0.0   \n",
       "3  SEAMLESS  GOOD_TILL_CANCEL      LIMIT       1.0             0.0   \n",
       "4    NORMAL               DAY  NET_DEBIT       1.0             1.0   \n",
       "\n",
       "   remainingQuantity  price     orderId  cancelable  editable    status  \\\n",
       "0                1.0   6.00  5428534769        True      True   WORKING   \n",
       "1                0.0   6.00  5428432702       False     False  CANCELED   \n",
       "2                0.0   6.00  5428381769       False     False  CANCELED   \n",
       "3                0.0   6.00  5427839141       False     False  CANCELED   \n",
       "4                0.0   1.58  5427594584       False     False    FILLED   \n",
       "\n",
       "                enteredTime                         tag  \\\n",
       "0  2022-03-15T19:31:02+0000  API_OMS_REST:AA_catelinnx2   \n",
       "1  2022-03-15T19:15:11+0000  API_OMS_REST:AA_catelinnx2   \n",
       "2  2022-03-15T19:07:43+0000  API_OMS_REST:AA_catelinnx2   \n",
       "3  2022-03-15T17:10:20+0000  API_OMS_REST:AA_catelinnx2   \n",
       "4  2022-03-15T16:22:18+0000                         tIP   \n",
       "\n",
       "                  closeTime  \n",
       "0                       NaN  \n",
       "1  2022-03-15T19:15:23+0000  \n",
       "2  2022-03-15T19:07:57+0000  \n",
       "3  2022-03-15T17:19:47+0000  \n",
       "4  2022-03-15T16:22:21+0000  "
      ]
     },
     "execution_count": 26,
     "metadata": {},
     "output_type": "execute_result"
    }
   ],
   "source": [
    "# how orders information look like\n",
    "cols = ['session', 'duration', 'orderType','quantity', 'filledQuantity', 'remainingQuantity',\n",
    "       'price','orderId', 'cancelable','editable', 'status', 'enteredTime', 'tag', 'closeTime']\n",
    "orders[cols].head()"
   ]
  },
  {
   "cell_type": "markdown",
   "metadata": {},
   "source": [
    "## Cancel Orders"
   ]
  },
  {
   "cell_type": "code",
   "execution_count": 27,
   "metadata": {},
   "outputs": [
    {
     "data": {
      "text/plain": [
       "0    5428534769\n",
       "Name: orderId, dtype: int64"
      ]
     },
     "execution_count": 27,
     "metadata": {},
     "output_type": "execute_result"
    }
   ],
   "source": [
    "# show all pending orders placed through api\n",
    "def isPendingAPIorder(orders):\n",
    "    return (orders['tag'].str.contains(r'API_OMS_REST*')) &\\\n",
    "           ((orders['status'] == 'WORKING') | \\\n",
    "            (orders['status'] == 'QUEUED'))\n",
    "\n",
    "pending_api_orders = orders[isPendingAPIorder(orders)]\n",
    "pending_api_orders.orderId"
   ]
  },
  {
   "cell_type": "code",
   "execution_count": 28,
   "metadata": {},
   "outputs": [
    {
     "name": "stdout",
     "output_type": "stream",
     "text": [
      "b''\n"
     ]
    }
   ],
   "source": [
    "# Now, let's cancel the above orders\n",
    "\n",
    "# define endpoint\n",
    "account_orders_url = f'https://api.tdameritrade.com/v1/accounts/{account_number}/orders/'\n",
    "\n",
    "# define header\n",
    "headers = {'Authorization': f'Bearer {access_token}'}\n",
    "\n",
    "# cancel orders one by one\n",
    "for orderId in pending_api_orders.orderId:\n",
    "        r = requests.delete(account_orders_url+str(orderId), headers=headers)\n",
    "        print(r.content) #print to see if any error message"
   ]
  },
  {
   "cell_type": "code",
   "execution_count": 29,
   "metadata": {},
   "outputs": [
    {
     "data": {
      "text/plain": [
       "Series([], Name: orderId, dtype: int64)"
      ]
     },
     "execution_count": 29,
     "metadata": {},
     "output_type": "execute_result"
    }
   ],
   "source": [
    "# let's see if those orders removed\n",
    "# define the endpoint\n",
    "endpoint = f'https://api.tdameritrade.com/v1/accounts/{account_number}/orders'\n",
    "\n",
    "# prepare the headers (per the docs)\n",
    "headers = {'Authorization': f'Bearer {access_token}'}\n",
    "\n",
    "# query parameters\n",
    "params = {'fromEnteredTime': '2022-02-17'}\n",
    "\n",
    "# make a request (use `POST` method)\n",
    "r = requests.get(url=endpoint, headers=headers, params=params)\n",
    "\n",
    "# parse the data\n",
    "orders = pd.DataFrame(r.json()).sort_values('enteredTime', ascending=False)\n",
    "\n",
    "# check if any more pending orders placed through api\n",
    "pending_api_orders = orders[isPendingAPIorder(orders)]\n",
    "pending_api_orders.orderId"
   ]
  }
 ],
 "metadata": {
  "kernelspec": {
   "display_name": "quantra",
   "language": "python",
   "name": "quantra"
  },
  "language_info": {
   "codemirror_mode": {
    "name": "ipython",
    "version": 3
   },
   "file_extension": ".py",
   "mimetype": "text/x-python",
   "name": "python",
   "nbconvert_exporter": "python",
   "pygments_lexer": "ipython3",
   "version": "3.9.5"
  },
  "toc": {
   "base_numbering": 1,
   "nav_menu": {},
   "number_sections": true,
   "sideBar": true,
   "skip_h1_title": false,
   "title_cell": "Table of Contents",
   "title_sidebar": "Contents",
   "toc_cell": false,
   "toc_position": {},
   "toc_section_display": true,
   "toc_window_display": true
  }
 },
 "nbformat": 4,
 "nbformat_minor": 4
}
