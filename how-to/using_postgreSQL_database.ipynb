{
 "cells": [
  {
   "cell_type": "markdown",
   "metadata": {},
   "source": [
    "# Using Relational Database\n"
   ]
  },
  {
   "cell_type": "code",
   "execution_count": 10,
   "metadata": {},
   "outputs": [],
   "source": [
    "import psycopg2 # for use with postgresql server\n",
    "from sqlalchemy import create_engine # connect and work with database\n",
    "from sqlalchemy import text # accepts the textual SQL query string\n",
    "\n",
    "# Create the connection engine to the stock database\n",
    "engine = create_engine('postgresql://localhost/stock_db_test')"
   ]
  },
  {
   "cell_type": "code",
   "execution_count": 12,
   "metadata": {},
   "outputs": [
    {
     "name": "stdout",
     "output_type": "stream",
     "text": [
      "[('hello world',)]\n"
     ]
    }
   ],
   "source": [
    "# Test with first query result \n",
    "with engine.connect() as conn:\n",
    "    result = conn.execute(text(\"SELECT 'hello world';\"))\n",
    "    print(result.all())"
   ]
  },
  {
   "cell_type": "code",
   "execution_count": 28,
   "metadata": {},
   "outputs": [
    {
     "name": "stdout",
     "output_type": "stream",
     "text": [
      "[('AAPL', 'Apple Inc'), ('SPX', 'S&P 500 Index'), ('SPY', 'S&P 500 ETF')]\n"
     ]
    }
   ],
   "source": [
    "# Let's try create a table and insert some data\n",
    "with engine.connect() as conn:\n",
    "    conn.execute(text(\"\"\"\n",
    "                      CREATE TABLE IF NOT EXISTS stock (\n",
    "                          ticker varchar(5),\n",
    "                          company text                         \n",
    "                      )\"\"\"))\n",
    "    conn.execute(text(\"\"\"INSERT INTO stock VALUES \n",
    "                        ('AAPL', 'Apple Inc'),\n",
    "                        ('SPX', 'S&P 500 Index'),\n",
    "                        ('SPY', 'S&P 500 ETF')\n",
    "                        \"\"\"))\n",
    "    result = conn.execute(text(\"SELECT * FROM stock\"))\n",
    "    print(result.all())"
   ]
  }
 ],
 "metadata": {
  "kernelspec": {
   "display_name": "quantra",
   "language": "python",
   "name": "quantra"
  },
  "language_info": {
   "codemirror_mode": {
    "name": "ipython",
    "version": 3
   },
   "file_extension": ".py",
   "mimetype": "text/x-python",
   "name": "python",
   "nbconvert_exporter": "python",
   "pygments_lexer": "ipython3",
   "version": "3.9.5"
  },
  "toc": {
   "base_numbering": 1,
   "nav_menu": {},
   "number_sections": true,
   "sideBar": true,
   "skip_h1_title": false,
   "title_cell": "Table of Contents",
   "title_sidebar": "Contents",
   "toc_cell": false,
   "toc_position": {},
   "toc_section_display": true,
   "toc_window_display": false
  }
 },
 "nbformat": 4,
 "nbformat_minor": 4
}
