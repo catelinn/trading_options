{
 "cells": [
  {
   "cell_type": "code",
   "execution_count": 1,
   "metadata": {},
   "outputs": [
    {
     "data": {
      "text/plain": [
       "['/Volumes/ExtremeSSD/github_repos/trading_options/how_to',\n",
       " '/Users/catelinn/miniconda3/envs/quantra/lib/python39.zip',\n",
       " '/Users/catelinn/miniconda3/envs/quantra/lib/python3.9',\n",
       " '/Users/catelinn/miniconda3/envs/quantra/lib/python3.9/lib-dynload',\n",
       " '',\n",
       " '/Users/catelinn/miniconda3/envs/quantra/lib/python3.9/site-packages',\n",
       " '/Users/catelinn/miniconda3/envs/quantra/lib/python3.9/site-packages/IPython/extensions',\n",
       " '/Users/catelinn/.ipython']"
      ]
     },
     "execution_count": 1,
     "metadata": {},
     "output_type": "execute_result"
    }
   ],
   "source": [
    "# list of directories the Python interpreter will search in \n",
    "# for required modules\n",
    "import sys\n",
    "sys.path"
   ]
  },
  {
   "cell_type": "code",
   "execution_count": 2,
   "metadata": {
    "scrolled": true
   },
   "outputs": [
    {
     "data": {
      "text/plain": [
       "['/Volumes/ExtremeSSD/github_repos/trading_options/how_to',\n",
       " '/Volumes/ExtremeSSD/github_repos/trading_options/app',\n",
       " '/Users/catelinn/miniconda3/envs/quantra/lib/python39.zip',\n",
       " '/Users/catelinn/miniconda3/envs/quantra/lib/python3.9',\n",
       " '/Users/catelinn/miniconda3/envs/quantra/lib/python3.9/lib-dynload',\n",
       " '',\n",
       " '/Users/catelinn/miniconda3/envs/quantra/lib/python3.9/site-packages',\n",
       " '/Users/catelinn/miniconda3/envs/quantra/lib/python3.9/site-packages/IPython/extensions',\n",
       " '/Users/catelinn/.ipython']"
      ]
     },
     "execution_count": 2,
     "metadata": {},
     "output_type": "execute_result"
    }
   ],
   "source": [
    "# insert new path for Python interpreter to search in for required module\n",
    "path_to_files = '/Volumes/ExtremeSSD/github_repos/trading_options/app'\n",
    "sys.path.insert(1, path_to_files)\n",
    "sys.path"
   ]
  },
  {
   "cell_type": "code",
   "execution_count": 3,
   "metadata": {},
   "outputs": [
    {
     "name": "stdout",
     "output_type": "stream",
     "text": [
      "OK\n",
      "New access token retrieved with unexpired refresh token.\n"
     ]
    }
   ],
   "source": [
    "# import tda module\n",
    "from tda.streaming import Client\n",
    "\n",
    "# get access_token for authorized access to endpoints\n",
    "client = Client(acc_type='margin')\n",
    "client.authenticate()"
   ]
  },
  {
   "cell_type": "code",
   "execution_count": 4,
   "metadata": {},
   "outputs": [],
   "source": [
    "# account number and access token stored in the client\n",
    "accountId = client.account_id\n",
    "access_token = client.access_token"
   ]
  },
  {
   "cell_type": "markdown",
   "metadata": {},
   "source": [
    "# Streaming Data from Websocket \n",
    "\n",
    "\n",
    "## Intro\n",
    "\n",
    "TD-Ameritrade API provides websockets to stream live data. In brief, we can open a websocket and then login to TDA Streamer server, so we can subscribe to a service for live data update. For example, we can subscribe to `ACCT_ACTIVITY` service to receive updated data on new order placed, filled, cancelled etc. \n",
    "\n",
    "Instructions and details can be found in [TD-Ameritrade websocket streaming quickstart tutorial](https://developer.tdameritrade.com/content/streaming-data).\n",
    "\n",
    "\n",
    "## Retrieve Info from UserPrinciples Response\n",
    "\n",
    "Before we can open the websocket connection, we need to retrieve streamer info from USER PRINCIPLES endpoint, which is required for login to TDA Streamer. Here's how to do it:\n",
    "\n",
    "> Make an authorized request (`POST`) to [get User Principals](https://developer.tdameritrade.com/user-principal/apis/get/userprincipals-0), which can be found in [User Info & Preferences API](https://developer.tdameritrade.com/user-principal/apis). We then can retrieve the login details from `userPrincipalsReponse.streamerInfo`\n"
   ]
  },
  {
   "cell_type": "code",
   "execution_count": 5,
   "metadata": {},
   "outputs": [
    {
     "data": {
      "text/plain": [
       "<Response [200]>"
      ]
     },
     "execution_count": 5,
     "metadata": {},
     "output_type": "execute_result"
    }
   ],
   "source": [
    "import requests\n",
    "\n",
    "# Get Streamer info from User Principles\n",
    "headers = {'Authorization': f'Bearer {access_token}'}\n",
    "endpoint = 'https://api.tdameritrade.com/v1/userprincipals'\n",
    "params = {'fields':'streamerSubscriptionKeys,streamerConnectionInfo'}\n",
    "r = requests.get(url=endpoint, params=params, headers=headers)\n",
    "r"
   ]
  },
  {
   "cell_type": "code",
   "execution_count": 6,
   "metadata": {},
   "outputs": [],
   "source": [
    "userPrinciplesResponse = r.json()\n",
    "\n",
    "# Extract streamer information\n",
    "streamerInfo = userPrinciplesResponse['streamerInfo']\n",
    "\n",
    "# Extract specific account details\n",
    "for account in userPrinciplesResponse['accounts']:\n",
    "    if account['accountId'] == accountId:\n",
    "        account = account"
   ]
  },
  {
   "cell_type": "code",
   "execution_count": 7,
   "metadata": {},
   "outputs": [],
   "source": [
    "# Grab the token timestamp and convert it to ms since epoch, which is accepted by Streamer\n",
    "import dateutil\n",
    "import datetime\n",
    "\n",
    "def unix_time_ms(dt):\n",
    "    # grab the starting point, so time '0'\n",
    "    epoch = datetime.datetime.utcfromtimestamp(0)\n",
    "    \n",
    "    return (dt-epoch).total_seconds() * 1000.0\n",
    "\n",
    "tokentimestamp = streamerInfo['tokenTimestamp']\n",
    "tokentimestamp = dateutil.parser.parse(tokentimestamp, ignoretz=True)\n",
    "tokentimestampMs = unix_time_ms(tokentimestamp)\n",
    "\n",
    "# Define the credentials required for login command\n",
    "credential = {\n",
    "    'userid': account['accountId'],\n",
    "    'token': streamerInfo['token'], \n",
    "    'company':  account['company'],\n",
    "    'segment': account['segment'],\n",
    "    'cddomain': account['accountCdDomainId'],\n",
    "    'usergroup':streamerInfo['userGroup'],\n",
    "    'accesslevel': streamerInfo['accessLevel'],\n",
    "    'authorized': 'Y',\n",
    "    'acl': streamerInfo['acl'],\n",
    "    'timestamp': int(tokentimestampMs),\n",
    "    'appid': streamerInfo['appId']    \n",
    "    }"
   ]
  },
  {
   "cell_type": "code",
   "execution_count": 8,
   "metadata": {},
   "outputs": [
    {
     "data": {
      "text/plain": [
       "'2022-03-18T00:44:59+0000'"
      ]
     },
     "execution_count": 8,
     "metadata": {},
     "output_type": "execute_result"
    }
   ],
   "source": [
    "streamerInfo['tokenTimestamp']"
   ]
  },
  {
   "cell_type": "markdown",
   "metadata": {},
   "source": [
    "## Define the Requests"
   ]
  },
  {
   "cell_type": "code",
   "execution_count": 9,
   "metadata": {},
   "outputs": [],
   "source": [
    "import urllib\n",
    "\n",
    "# Define a login request\n",
    "login_request = {\n",
    "    'service':'ADMIN',\n",
    "    'requestid': '0', # login request comes first\n",
    "    'command': 'LOGIN',\n",
    "    'account': accountId,\n",
    "    'source': streamerInfo['appId'],\n",
    "    'parameters': {\n",
    "        'token': streamerInfo['token'],\n",
    "        'version': '1.0',\n",
    "        'credential': urllib.parse.urlencode(credential) # convert json arguments to a query string\n",
    "    }\n",
    "}"
   ]
  },
  {
   "cell_type": "code",
   "execution_count": 10,
   "metadata": {},
   "outputs": [],
   "source": [
    "# define request for different data sources\n",
    "data_request = {'requests':[\n",
    "                            {\n",
    "                            'service': 'ACTIVES_NASDAQ',\n",
    "                            'requestid': '1',\n",
    "                            'command': 'SUBS',\n",
    "                            'account': account['accountId'],\n",
    "                            'source': streamerInfo['appId'],\n",
    "                            'parameters': {\n",
    "                                'keys': 'NASDAQ-60',\n",
    "                                'fields': '0,1'\n",
    "                            }},\n",
    "                            \n",
    "                            {\n",
    "                            'service': 'LEVELONE_FUTURES',\n",
    "                            'requestid': '2',\n",
    "                            'command': 'SUBS',\n",
    "                            'account': account['accountId'],\n",
    "                            'source': streamerInfo['appId'],\n",
    "                            'parameters': {\n",
    "                                'keys': '/ES',\n",
    "                                'fields': '0,3,8'\n",
    "                            }}\n",
    "                            ]\n",
    "                }"
   ]
  },
  {
   "cell_type": "code",
   "execution_count": 11,
   "metadata": {},
   "outputs": [],
   "source": [
    "# turn the requests into json strings\n",
    "import json\n",
    "login_encoded = json.dumps(login_request)\n",
    "data_encoded = json.dumps(data_request)"
   ]
  },
  {
   "cell_type": "markdown",
   "metadata": {},
   "source": [
    "# Create the Websocket client"
   ]
  },
  {
   "cell_type": "code",
   "execution_count": 12,
   "metadata": {},
   "outputs": [],
   "source": [
    "import websockets\n",
    "from websockets import client as wsClient\n",
    "import asyncio"
   ]
  },
  {
   "cell_type": "code",
   "execution_count": 13,
   "metadata": {},
   "outputs": [],
   "source": [
    "class WebSocketClient():\n",
    "    \"\"\"The client \"\"\"\n",
    "    \n",
    "    def __init__(self):\n",
    "        pass\n",
    "        \n",
    "    async def connect(self):\n",
    "        '''\n",
    "            Connecting to webSocket server\n",
    "            websockets.client.connect returns a WebSocketClientProtocol, which is used to send and receive messages\n",
    "        '''\n",
    "        # Extract websocket streamer url\n",
    "        uri = 'wss://'+streamerInfo['streamerSocketUrl']+'/ws'\n",
    "        \n",
    "        # connect to it\n",
    "        self.connection = await wsClient.connect(uri)\n",
    "        \n",
    "        # if all goes well, let the user know\n",
    "        if self.connection.open:\n",
    "            print(\"connection established. client correctly connected\")\n",
    "            return self.connection\n",
    "        \n",
    "    async def sendMessage(self, message):\n",
    "        '''\n",
    "            Sending message to webSocket server: \n",
    "            - send login information\n",
    "            - subscribe to data\n",
    "        '''\n",
    "        await self.connection.send(message)\n",
    "        \n",
    "    async def receiveMessage(self, connection):\n",
    "        '''\n",
    "            Receiving all server messages and handle them \n",
    "            it'd be in infinite loop, won't stop until user interruption\n",
    "        '''\n",
    "        while True:   \n",
    "            try: \n",
    "                # grab and decode the message\n",
    "                message = await connection.recv()\n",
    "                message_decoded = json.loads(message)\n",
    "                \n",
    "                # print the data if the response contains data\n",
    "                if 'data' in message_decoded.keys():\n",
    "                    print(message_decoded['data'])\n",
    "                \n",
    "                print('-'*20)\n",
    "                print('Received message from server:'+ str(message))\n",
    "                \n",
    "            except websockets.exceptions.ConnectionClosed:\n",
    "                print(\"connection with server closed\")\n",
    "                break\n",
    "                \n",
    "                \n",
    "    async def heartbeat(self, connection):\n",
    "        '''\n",
    "            Sending heartbeat to server every 5 seconds\n",
    "            Ping - pong messages to verify connection is alive\n",
    "        '''\n",
    "        while True:\n",
    "            try:\n",
    "                await connection.send('ping')\n",
    "                await asyncio.sleep(5)\n",
    "            except websockets.exceptions.ConnectionClosed:\n",
    "                print('Connection with server closed')\n",
    "                break                 "
   ]
  },
  {
   "cell_type": "markdown",
   "metadata": {},
   "source": [
    "# Make the Websocket Requests"
   ]
  },
  {
   "cell_type": "code",
   "execution_count": 14,
   "metadata": {},
   "outputs": [
    {
     "name": "stdout",
     "output_type": "stream",
     "text": [
      "connection established. client correctly connected\n",
      "--------------------\n",
      "Received message from server:{\"response\":[{\"service\":\"ADMIN\",\"requestid\":\"0\",\"command\":\"LOGIN\",\"timestamp\":1647564300073,\"content\":{\"code\":0,\"msg\":\"08-3\"}}]}\n",
      "--------------------\n",
      "Received message from server:{\"notify\":[{\"heartbeat\":\"1647564300075\"}]}\n",
      "--------------------\n",
      "Received message from server:{\"response\":[{\"service\":\"LEVELONE_FUTURES\",\"requestid\":\"2\",\"command\":\"SUBS\",\"timestamp\":1647564300075,\"content\":{\"code\":0,\"msg\":\"SUBS command succeeded\"}}]}\n",
      "--------------------\n",
      "Received message from server:{\"notify\":[{\"heartbeat\":\"1647564300075\"}]}\n",
      "--------------------\n",
      "Received message from server:{\"response\":[{\"service\":\"ACTIVES_NASDAQ\",\"requestid\":\"1\",\"command\":\"SUBS\",\"timestamp\":1647564300075,\"content\":{\"code\":0,\"msg\":\"SUBS command succeeded\"}}]}\n",
      "[{'service': 'LEVELONE_FUTURES', 'timestamp': 1647564300085, 'command': 'SUBS', 'content': [{'key': '/ES', 'delayed': False, 'assetMainType': 'FUTURE', '3': 4375.75, '8': 25375}]}, {'service': 'ACTIVES_NASDAQ', 'timestamp': 1647564300085, 'command': 'SUBS', 'content': [{'key': 'NASDAQ-60', '1': '72116;60;20:0:00;20:01:56;2;0:10:1793:MULN:129:7.19:GROM:110:6.13:PIK:109:6.08:TSLA:82:4.57:SQQQ:61:3.4:SOFI:56:3.12:AMD:50:2.79:HYMC:49:2.73:TQQQ:42:2.34:QQQ:30:1.67;1:10:841689:MULN:149380:17.75:HYMC:85333:10.14:GROM:71585:8.5:MOHO:57498:6.83:MKD:51100:6.07:PIK:35847:4.26:SQQQ:27466:3.26:ARDX:20000:2.38:CUEN:18032:2.14:OP:18000:2.14'}]}]\n",
      "--------------------\n",
      "Received message from server:{\"data\":[{\"service\":\"LEVELONE_FUTURES\", \"timestamp\":1647564300085,\"command\":\"SUBS\",\"content\":[{\"key\":\"/ES\",\"delayed\":false,\"assetMainType\":\"FUTURE\",\"3\":4375.75,\"8\":25375}]},{\"service\":\"ACTIVES_NASDAQ\", \"timestamp\":1647564300085,\"command\":\"SUBS\",\"content\":[{\"key\":\"NASDAQ-60\",\"1\":\"72116;60;20:0:00;20:01:56;2;0:10:1793:MULN:129:7.19:GROM:110:6.13:PIK:109:6.08:TSLA:82:4.57:SQQQ:61:3.4:SOFI:56:3.12:AMD:50:2.79:HYMC:49:2.73:TQQQ:42:2.34:QQQ:30:1.67;1:10:841689:MULN:149380:17.75:HYMC:85333:10.14:GROM:71585:8.5:MOHO:57498:6.83:MKD:51100:6.07:PIK:35847:4.26:SQQQ:27466:3.26:ARDX:20000:2.38:CUEN:18032:2.14:OP:18000:2.14\"}]}]}\n",
      "[{'service': 'LEVELONE_FUTURES', 'timestamp': 1647564301139, 'command': 'SUBS', 'content': [{'key': '/ES', '8': 25377}]}]\n",
      "--------------------\n",
      "Received message from server:{\"data\":[{\"service\":\"LEVELONE_FUTURES\", \"timestamp\":1647564301139,\"command\":\"SUBS\",\"content\":[{\"key\":\"/ES\",\"8\":25377}]}]}\n",
      "[{'service': 'LEVELONE_FUTURES', 'timestamp': 1647564302156, 'command': 'SUBS', 'content': [{'key': '/ES', '3': 4375.25, '8': 25381}]}]\n",
      "--------------------\n",
      "Received message from server:{\"data\":[{\"service\":\"LEVELONE_FUTURES\", \"timestamp\":1647564302156,\"command\":\"SUBS\",\"content\":[{\"key\":\"/ES\",\"3\":4375.25,\"8\":25381}]}]}\n",
      "[{'service': 'LEVELONE_FUTURES', 'timestamp': 1647564303291, 'command': 'SUBS', 'content': [{'key': '/ES', '3': 4375.5, '8': 25384}]}]\n",
      "--------------------\n",
      "Received message from server:{\"data\":[{\"service\":\"LEVELONE_FUTURES\", \"timestamp\":1647564303291,\"command\":\"SUBS\",\"content\":[{\"key\":\"/ES\",\"3\":4375.5,\"8\":25384}]}]}\n"
     ]
    },
    {
     "ename": "KeyboardInterrupt",
     "evalue": "",
     "output_type": "error",
     "traceback": [
      "\u001b[0;31m---------------------------------------------------------------------------\u001b[0m",
      "\u001b[0;31mKeyboardInterrupt\u001b[0m                         Traceback (most recent call last)",
      "\u001b[0;32m<ipython-input-14-799a4deb5cdf>\u001b[0m in \u001b[0;36m<module>\u001b[0;34m\u001b[0m\n\u001b[1;32m     24\u001b[0m \u001b[0;34m\u001b[0m\u001b[0m\n\u001b[1;32m     25\u001b[0m     \u001b[0;31m# run the tasks\u001b[0m\u001b[0;34m\u001b[0m\u001b[0;34m\u001b[0m\u001b[0;34m\u001b[0m\u001b[0m\n\u001b[0;32m---> 26\u001b[0;31m     \u001b[0mloop\u001b[0m\u001b[0;34m.\u001b[0m\u001b[0mrun_until_complete\u001b[0m\u001b[0;34m(\u001b[0m\u001b[0masyncio\u001b[0m\u001b[0;34m.\u001b[0m\u001b[0mwait\u001b[0m\u001b[0;34m(\u001b[0m\u001b[0mtasks\u001b[0m\u001b[0;34m)\u001b[0m\u001b[0;34m)\u001b[0m\u001b[0;34m\u001b[0m\u001b[0;34m\u001b[0m\u001b[0m\n\u001b[0m",
      "\u001b[0;32m~/miniconda3/envs/quantra/lib/python3.9/site-packages/nest_asyncio.py\u001b[0m in \u001b[0;36mrun_until_complete\u001b[0;34m(self, future)\u001b[0m\n\u001b[1;32m     62\u001b[0m                 \u001b[0mf\u001b[0m\u001b[0;34m.\u001b[0m\u001b[0m_log_destroy_pending\u001b[0m \u001b[0;34m=\u001b[0m \u001b[0;32mFalse\u001b[0m\u001b[0;34m\u001b[0m\u001b[0;34m\u001b[0m\u001b[0m\n\u001b[1;32m     63\u001b[0m             \u001b[0;32mwhile\u001b[0m \u001b[0;32mnot\u001b[0m \u001b[0mf\u001b[0m\u001b[0;34m.\u001b[0m\u001b[0mdone\u001b[0m\u001b[0;34m(\u001b[0m\u001b[0;34m)\u001b[0m\u001b[0;34m:\u001b[0m\u001b[0;34m\u001b[0m\u001b[0;34m\u001b[0m\u001b[0m\n\u001b[0;32m---> 64\u001b[0;31m                 \u001b[0mself\u001b[0m\u001b[0;34m.\u001b[0m\u001b[0m_run_once\u001b[0m\u001b[0;34m(\u001b[0m\u001b[0;34m)\u001b[0m\u001b[0;34m\u001b[0m\u001b[0;34m\u001b[0m\u001b[0m\n\u001b[0m\u001b[1;32m     65\u001b[0m                 \u001b[0;32mif\u001b[0m \u001b[0mself\u001b[0m\u001b[0;34m.\u001b[0m\u001b[0m_stopping\u001b[0m\u001b[0;34m:\u001b[0m\u001b[0;34m\u001b[0m\u001b[0;34m\u001b[0m\u001b[0m\n\u001b[1;32m     66\u001b[0m                     \u001b[0;32mbreak\u001b[0m\u001b[0;34m\u001b[0m\u001b[0;34m\u001b[0m\u001b[0m\n",
      "\u001b[0;32m~/miniconda3/envs/quantra/lib/python3.9/site-packages/nest_asyncio.py\u001b[0m in \u001b[0;36m_run_once\u001b[0;34m(self)\u001b[0m\n\u001b[1;32m     85\u001b[0m             \u001b[0;32melse\u001b[0m \u001b[0mmin\u001b[0m\u001b[0;34m(\u001b[0m\u001b[0mmax\u001b[0m\u001b[0;34m(\u001b[0m\u001b[0mscheduled\u001b[0m\u001b[0;34m[\u001b[0m\u001b[0;36m0\u001b[0m\u001b[0;34m]\u001b[0m\u001b[0;34m.\u001b[0m\u001b[0m_when\u001b[0m \u001b[0;34m-\u001b[0m \u001b[0mnow\u001b[0m\u001b[0;34m,\u001b[0m \u001b[0;36m0\u001b[0m\u001b[0;34m)\u001b[0m\u001b[0;34m,\u001b[0m \u001b[0;36m86400\u001b[0m\u001b[0;34m)\u001b[0m \u001b[0;32mif\u001b[0m \u001b[0mscheduled\u001b[0m\u001b[0;34m\u001b[0m\u001b[0;34m\u001b[0m\u001b[0m\n\u001b[1;32m     86\u001b[0m             else None)\n\u001b[0;32m---> 87\u001b[0;31m         \u001b[0mevent_list\u001b[0m \u001b[0;34m=\u001b[0m \u001b[0mself\u001b[0m\u001b[0;34m.\u001b[0m\u001b[0m_selector\u001b[0m\u001b[0;34m.\u001b[0m\u001b[0mselect\u001b[0m\u001b[0;34m(\u001b[0m\u001b[0mtimeout\u001b[0m\u001b[0;34m)\u001b[0m\u001b[0;34m\u001b[0m\u001b[0;34m\u001b[0m\u001b[0m\n\u001b[0m\u001b[1;32m     88\u001b[0m         \u001b[0mself\u001b[0m\u001b[0;34m.\u001b[0m\u001b[0m_process_events\u001b[0m\u001b[0;34m(\u001b[0m\u001b[0mevent_list\u001b[0m\u001b[0;34m)\u001b[0m\u001b[0;34m\u001b[0m\u001b[0;34m\u001b[0m\u001b[0m\n\u001b[1;32m     89\u001b[0m \u001b[0;34m\u001b[0m\u001b[0m\n",
      "\u001b[0;32m~/miniconda3/envs/quantra/lib/python3.9/selectors.py\u001b[0m in \u001b[0;36mselect\u001b[0;34m(self, timeout)\u001b[0m\n\u001b[1;32m    560\u001b[0m             \u001b[0mready\u001b[0m \u001b[0;34m=\u001b[0m \u001b[0;34m[\u001b[0m\u001b[0;34m]\u001b[0m\u001b[0;34m\u001b[0m\u001b[0;34m\u001b[0m\u001b[0m\n\u001b[1;32m    561\u001b[0m             \u001b[0;32mtry\u001b[0m\u001b[0;34m:\u001b[0m\u001b[0;34m\u001b[0m\u001b[0;34m\u001b[0m\u001b[0m\n\u001b[0;32m--> 562\u001b[0;31m                 \u001b[0mkev_list\u001b[0m \u001b[0;34m=\u001b[0m \u001b[0mself\u001b[0m\u001b[0;34m.\u001b[0m\u001b[0m_selector\u001b[0m\u001b[0;34m.\u001b[0m\u001b[0mcontrol\u001b[0m\u001b[0;34m(\u001b[0m\u001b[0;32mNone\u001b[0m\u001b[0;34m,\u001b[0m \u001b[0mmax_ev\u001b[0m\u001b[0;34m,\u001b[0m \u001b[0mtimeout\u001b[0m\u001b[0;34m)\u001b[0m\u001b[0;34m\u001b[0m\u001b[0;34m\u001b[0m\u001b[0m\n\u001b[0m\u001b[1;32m    563\u001b[0m             \u001b[0;32mexcept\u001b[0m \u001b[0mInterruptedError\u001b[0m\u001b[0;34m:\u001b[0m\u001b[0;34m\u001b[0m\u001b[0;34m\u001b[0m\u001b[0m\n\u001b[1;32m    564\u001b[0m                 \u001b[0;32mreturn\u001b[0m \u001b[0mready\u001b[0m\u001b[0;34m\u001b[0m\u001b[0;34m\u001b[0m\u001b[0m\n",
      "\u001b[0;31mKeyboardInterrupt\u001b[0m: "
     ]
    }
   ],
   "source": [
    "# To allow asyncio event loop to be nested, which need to happen in envrionments such as\n",
    "# web servers, GUI apps and in Jupyter Notebook\n",
    "import nest_asyncio\n",
    "nest_asyncio.apply()\n",
    "\n",
    "\n",
    "if __name__ == '__main__':\n",
    "    \n",
    "    # create the client object\n",
    "    client = WebSocketClient()\n",
    "    \n",
    "    # define an event loop\n",
    "    loop = asyncio.get_event_loop()\n",
    "    \n",
    "    # start the connection to the websocket in the loop\n",
    "    connection = loop.run_until_complete(client.connect())\n",
    "    \n",
    "    # define the tasks that we want to run\n",
    "    tasks = [asyncio.ensure_future(client.receiveMessage(connection)),\n",
    "             asyncio.ensure_future(client.sendMessage(login_encoded)),\n",
    "             asyncio.ensure_future(client.receiveMessage(connection)),\n",
    "             asyncio.ensure_future(client.sendMessage(data_encoded)),\n",
    "             asyncio.ensure_future(client.receiveMessage(connection))]\n",
    "    \n",
    "    # run the tasks\n",
    "    loop.run_until_complete(asyncio.wait(tasks))"
   ]
  }
 ],
 "metadata": {
  "kernelspec": {
   "display_name": "quantra",
   "language": "python",
   "name": "quantra"
  },
  "language_info": {
   "codemirror_mode": {
    "name": "ipython",
    "version": 3
   },
   "file_extension": ".py",
   "mimetype": "text/x-python",
   "name": "python",
   "nbconvert_exporter": "python",
   "pygments_lexer": "ipython3",
   "version": "3.9.5"
  },
  "toc": {
   "base_numbering": 1,
   "nav_menu": {},
   "number_sections": true,
   "sideBar": true,
   "skip_h1_title": false,
   "title_cell": "Table of Contents",
   "title_sidebar": "Contents",
   "toc_cell": false,
   "toc_position": {},
   "toc_section_display": true,
   "toc_window_display": true
  }
 },
 "nbformat": 4,
 "nbformat_minor": 4
}
